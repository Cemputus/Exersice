{
 "cells": [
  {
   "cell_type": "code",
   "execution_count": 7,
   "metadata": {},
   "outputs": [
    {
     "name": "stdout",
     "output_type": "stream",
     "text": [
      "Name: Nsubuga is 34 old\n"
     ]
    }
   ],
   "source": [
    "\n",
    "def nsubuga():\n",
    "    name = []\n",
    "    age = []\n",
    "\n",
    "    user_name = input('Enter your name: ')\n",
    "    user_age = int(input('Enter your age: '))\n",
    "\n",
    "    name.append(user_name)\n",
    "    age.append(user_age)\n",
    "\n",
    "\n",
    "    print(f\"Name: {name[0]} is {age[0]} old\")\n",
    "\n",
    "nsubuga()\n"
   ]
  }
 ],
 "metadata": {
  "kernelspec": {
   "display_name": "Python 3",
   "language": "python",
   "name": "python3"
  },
  "language_info": {
   "codemirror_mode": {
    "name": "ipython",
    "version": 3
   },
   "file_extension": ".py",
   "mimetype": "text/x-python",
   "name": "python",
   "nbconvert_exporter": "python",
   "pygments_lexer": "ipython3",
   "version": "3.11.3"
  },
  "orig_nbformat": 4
 },
 "nbformat": 4,
 "nbformat_minor": 2
}
