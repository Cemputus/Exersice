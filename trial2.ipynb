{
 "cells": [
  {
   "cell_type": "code",
   "execution_count": 4,
   "metadata": {},
   "outputs": [
    {
     "ename": "IndexError",
     "evalue": "list assignment index out of range",
     "output_type": "error",
     "traceback": [
      "\u001b[1;31m---------------------------------------------------------------------------\u001b[0m",
      "\u001b[1;31mIndexError\u001b[0m                                Traceback (most recent call last)",
      "\u001b[1;32mc:\\Users\\cempu\\OneDrive\\Documents\\Data_Science\\year1\\semester 2\\Data-Structures-and-Algorithms\\Exersice\\trial2.ipynb Cell 1\u001b[0m line \u001b[0;36m7\n\u001b[0;32m      <a href='vscode-notebook-cell:/c%3A/Users/cempu/OneDrive/Documents/Data_Science/year1/semester%202/Data-Structures-and-Algorithms/Exersice/trial2.ipynb#W0sZmlsZQ%3D%3D?line=3'>4</a>\u001b[0m user_name \u001b[39m=\u001b[39m \u001b[39minput\u001b[39m(\u001b[39m'\u001b[39m\u001b[39mEnter your name: \u001b[39m\u001b[39m'\u001b[39m)\n\u001b[0;32m      <a href='vscode-notebook-cell:/c%3A/Users/cempu/OneDrive/Documents/Data_Science/year1/semester%202/Data-Structures-and-Algorithms/Exersice/trial2.ipynb#W0sZmlsZQ%3D%3D?line=4'>5</a>\u001b[0m user_age  \u001b[39m=\u001b[39m \u001b[39mint\u001b[39m(\u001b[39minput\u001b[39m(\u001b[39m'\u001b[39m\u001b[39mEnter your age: \u001b[39m\u001b[39m'\u001b[39m))\n\u001b[1;32m----> <a href='vscode-notebook-cell:/c%3A/Users/cempu/OneDrive/Documents/Data_Science/year1/semester%202/Data-Structures-and-Algorithms/Exersice/trial2.ipynb#W0sZmlsZQ%3D%3D?line=6'>7</a>\u001b[0m name[\u001b[39m1\u001b[39;49m] \u001b[39m=\u001b[39m user_name\n\u001b[0;32m      <a href='vscode-notebook-cell:/c%3A/Users/cempu/OneDrive/Documents/Data_Science/year1/semester%202/Data-Structures-and-Algorithms/Exersice/trial2.ipynb#W0sZmlsZQ%3D%3D?line=7'>8</a>\u001b[0m age[\u001b[39m1\u001b[39m]  \u001b[39m=\u001b[39m user_age\n",
      "\u001b[1;31mIndexError\u001b[0m: list assignment index out of range"
     ]
    }
   ],
   "source": [
    "name = []\n",
    "age = []\n",
    "\n",
    "user_name = input('Enter your name: ')\n",
    "user_age  = int(input('Enter your age: '))\n",
    "\n",
    "name[1] = user_name\n",
    "age[1]  = user_age\n"
   ]
  }
 ],
 "metadata": {
  "kernelspec": {
   "display_name": "Python 3",
   "language": "python",
   "name": "python3"
  },
  "language_info": {
   "codemirror_mode": {
    "name": "ipython",
    "version": 3
   },
   "file_extension": ".py",
   "mimetype": "text/x-python",
   "name": "python",
   "nbconvert_exporter": "python",
   "pygments_lexer": "ipython3",
   "version": "3.11.3"
  },
  "orig_nbformat": 4
 },
 "nbformat": 4,
 "nbformat_minor": 2
}
