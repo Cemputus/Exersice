{
 "cells": [
  {
   "cell_type": "code",
   "execution_count": 1,
   "metadata": {},
   "outputs": [
    {
     "name": "stdout",
     "output_type": "stream",
     "text": [
      "helo world\n"
     ]
    }
   ],
   "source": [
    "#printing hello world\n",
    "print('helo world')"
   ]
  },
  {
   "cell_type": "code",
   "execution_count": null,
   "metadata": {},
   "outputs": [],
   "source": [
    "# a function printing hello world\n",
    "def hello():\n",
    "  print('Hello World')\n",
    "\n",
    "hello()"
   ]
  },
  {
   "cell_type": "code",
   "execution_count": 9,
   "metadata": {},
   "outputs": [
    {
     "name": "stdout",
     "output_type": "stream",
     "text": [
      "  1   2   3   4 \n",
      "  5   6   7   8 \n",
      "  9  10  11  12 \n",
      " 13  14  15  16 \n",
      " 17  18  19  20 \n",
      " 21  22  23  24 \n",
      " 25  26  27  28 \n",
      " 29  30  31  32 \n",
      " 33  34  35  36 \n",
      " 37  38  39  40 \n",
      " 41  42  43  44 \n",
      " 45  46  47  48 \n",
      " 49  50  51  52 \n",
      " 53  54  55  56 \n",
      " 57  58  59  60 \n",
      " 61  62  63  64 \n",
      " 65  66  67  68 \n",
      " 69  70  71  72 \n",
      " 73  74  75  76 \n",
      " 77  78  79  80 \n"
     ]
    }
   ],
   "source": [
    "#counting nunmbers from 1 to 80  printing 4 numbers on each line \n",
    "\n",
    "\n",
    "counter = 1\n",
    "for i in range(1, 21):\n",
    "    for j in range(1, 5):\n",
    "        print(f'{counter:3}', end=\" \")\n",
    "        counter += 1\n",
    "    print()"
   ]
  },
  {
   "cell_type": "code",
   "execution_count": 13,
   "metadata": {},
   "outputs": [
    {
     "name": "stdout",
     "output_type": "stream",
     "text": [
      "   1    2    3    4 \n",
      "   5    6    7    8 \n",
      "   9   10   11   12 \n",
      "  13   14   15   16 \n",
      "  17   18   19   20 \n",
      "  21   22   23   24 \n",
      "  25   26   27   28 \n",
      "  29   30   31   32 \n",
      "  33   34   35   36 \n",
      "  37   38   39   40 \n",
      "  41   42   43   44 \n",
      "  45   46   47   48 \n",
      "  49   50   51   52 \n",
      "  53   54   55   56 \n",
      "  57   58   59   60 \n",
      "  61   62   63   64 \n",
      "  65   66   67   68 \n",
      "  69   70   71   72 \n",
      "  73   74   75   76 \n",
      "  77   78   79   80 \n"
     ]
    }
   ],
   "source": [
    "# using a function \n",
    "def count():\n",
    "    counter1 = 1\n",
    "    for i in range(1, 21):\n",
    "        for j in range(1, 5):\n",
    "            print(f'{counter1:4}', end=\" \")\n",
    "            counter1 +=1\n",
    "        print( )\n",
    "        \n",
    "        \n",
    "count()\n",
    "        \n",
    "      \n",
    "    \n"
   ]
  },
  {
   "cell_type": "code",
   "execution_count": 16,
   "metadata": {},
   "outputs": [],
   "source": [
    "# function that says degree coverter from celc to fahre and allows users to input entry then converts it \n",
    "#the temp { x c }  to fah \n",
    "#he\n",
    "def degree_converter():\n",
    "    def converter():\n",
    "        user_input = float(input('enter the degrees :' ))\n",
    "        \n",
    "\n",
    "    \n",
    "    \n",
    "\n",
    "\n",
    " "
   ]
  },
  {
   "cell_type": "code",
   "execution_count": 18,
   "metadata": {},
   "outputs": [],
   "source": [
    "def degree_converter():\n",
    "    def converter():\n",
    "        user_input = float(input('enter the degrees :' ))\n",
    "        fahrenheit = (user_input * 9/5) + 32\n",
    "        print('%.2f degrees Celsius is equal to %.2f degrees Fahrenheit' % (user_input, fahrenheit))\n",
    "\n",
    "    converter()"
   ]
  },
  {
   "cell_type": "code",
   "execution_count": null,
   "metadata": {},
   "outputs": [],
   "source": [
    "def degree_converter():\n",
    "    def converter(C):\n",
    "        fahre = (C * 9/5) + 32\n",
    "        return fahre\n",
    "\n",
    "    user_input = float(input('Enter the Celsius degrees : '))\n",
    "    fahre = converter(user_input)\n",
    "    print('%.2f degrees Celsius is equal to %.2f degrees Fahrenheit' % (user_input, fahre))\n",
    "\n",
    "degree_converter()\n"
   ]
  }
 ],
 "metadata": {
  "kernelspec": {
   "display_name": "Python 3",
   "language": "python",
   "name": "python3"
  },
  "language_info": {
   "codemirror_mode": {
    "name": "ipython",
    "version": 3
   },
   "file_extension": ".py",
   "mimetype": "text/x-python",
   "name": "python",
   "nbconvert_exporter": "python",
   "pygments_lexer": "ipython3",
   "version": "3.11.3"
  },
  "orig_nbformat": 4
 },
 "nbformat": 4,
 "nbformat_minor": 2
}
